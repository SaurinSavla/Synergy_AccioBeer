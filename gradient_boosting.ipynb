{
  "cells": [
    {
      "cell_type": "code",
      "execution_count": 1,
      "metadata": {
        "colab": {
          "base_uri": "https://localhost:8080/"
        },
        "id": "KbPDwdhuxss-",
        "outputId": "f2163e64-0649-455d-a7c7-99cef33767c1"
      },
      "outputs": [
        {
          "name": "stdout",
          "output_type": "stream",
          "text": [
            "Requirement already satisfied: imbalanced-learn in /usr/local/lib/python3.10/dist-packages (0.10.1)\n",
            "Requirement already satisfied: numpy>=1.17.3 in /usr/local/lib/python3.10/dist-packages (from imbalanced-learn) (1.25.2)\n",
            "Requirement already satisfied: scipy>=1.3.2 in /usr/local/lib/python3.10/dist-packages (from imbalanced-learn) (1.11.4)\n",
            "Requirement already satisfied: scikit-learn>=1.0.2 in /usr/local/lib/python3.10/dist-packages (from imbalanced-learn) (1.2.2)\n",
            "Requirement already satisfied: joblib>=1.1.1 in /usr/local/lib/python3.10/dist-packages (from imbalanced-learn) (1.3.2)\n",
            "Requirement already satisfied: threadpoolctl>=2.0.0 in /usr/local/lib/python3.10/dist-packages (from imbalanced-learn) (3.3.0)\n"
          ]
        }
      ],
      "source": [
        "# !pip install imbalanced-learn"
      ]
    },
    {
      "cell_type": "code",
      "execution_count": 17,
      "metadata": {
        "id": "ZuaHBEbk69Su"
      },
      "outputs": [],
      "source": [
        "import pandas as pd\n",
        "import numpy as np\n",
        "import matplotlib.pyplot as plt\n",
        "import sklearn\n",
        "from sklearn.preprocessing import LabelEncoder\n",
        "from sklearn.preprocessing import OrdinalEncoder\n",
        "from sklearn.model_selection import train_test_split\n",
        "from sklearn.metrics import confusion_matrix, classification_report\n",
        "from sklearn.model_selection import cross_val_score\n",
        "import seaborn as sns\n",
        "from sklearn.ensemble import AdaBoostClassifier\n",
        "from sklearn.metrics import accuracy_score\n",
        "from sklearn.preprocessing import MinMaxScaler\n",
        "from imblearn.over_sampling import SMOTE\n",
        "from sklearn.ensemble import RandomForestClassifier"
      ]
    },
    {
      "cell_type": "code",
      "execution_count": 18,
      "metadata": {
        "colab": {
          "base_uri": "https://localhost:8080/",
          "height": 342
        },
        "id": "UWaOgeeqzF8J",
        "outputId": "220cfdb4-8518-4509-bf34-3ff633d8af30"
      },
      "outputs": [
        {
          "data": {
            "text/html": [
              "<div>\n",
              "<style scoped>\n",
              "    .dataframe tbody tr th:only-of-type {\n",
              "        vertical-align: middle;\n",
              "    }\n",
              "\n",
              "    .dataframe tbody tr th {\n",
              "        vertical-align: top;\n",
              "    }\n",
              "\n",
              "    .dataframe thead th {\n",
              "        text-align: right;\n",
              "    }\n",
              "</style>\n",
              "<table border=\"1\" class=\"dataframe\">\n",
              "  <thead>\n",
              "    <tr style=\"text-align: right;\">\n",
              "      <th></th>\n",
              "      <th>no.</th>\n",
              "      <th>sex</th>\n",
              "      <th>age</th>\n",
              "      <th>eeg.date</th>\n",
              "      <th>education</th>\n",
              "      <th>IQ</th>\n",
              "      <th>main.disorder</th>\n",
              "      <th>specific.disorder</th>\n",
              "      <th>AB.A.delta.a.FP1</th>\n",
              "      <th>AB.A.delta.b.FP2</th>\n",
              "      <th>...</th>\n",
              "      <th>COH.F.gamma.o.Pz.p.P4</th>\n",
              "      <th>COH.F.gamma.o.Pz.q.T6</th>\n",
              "      <th>COH.F.gamma.o.Pz.r.O1</th>\n",
              "      <th>COH.F.gamma.o.Pz.s.O2</th>\n",
              "      <th>COH.F.gamma.p.P4.q.T6</th>\n",
              "      <th>COH.F.gamma.p.P4.r.O1</th>\n",
              "      <th>COH.F.gamma.p.P4.s.O2</th>\n",
              "      <th>COH.F.gamma.q.T6.r.O1</th>\n",
              "      <th>COH.F.gamma.q.T6.s.O2</th>\n",
              "      <th>COH.F.gamma.r.O1.s.O2</th>\n",
              "    </tr>\n",
              "  </thead>\n",
              "  <tbody>\n",
              "    <tr>\n",
              "      <th>0</th>\n",
              "      <td>1</td>\n",
              "      <td>M</td>\n",
              "      <td>57.0</td>\n",
              "      <td>2012.8.30</td>\n",
              "      <td>NaN</td>\n",
              "      <td>NaN</td>\n",
              "      <td>Addictive disorder</td>\n",
              "      <td>Alcohol use disorder</td>\n",
              "      <td>35.998557</td>\n",
              "      <td>21.717375</td>\n",
              "      <td>...</td>\n",
              "      <td>55.989192</td>\n",
              "      <td>16.739679</td>\n",
              "      <td>23.452271</td>\n",
              "      <td>45.678820</td>\n",
              "      <td>30.167520</td>\n",
              "      <td>16.918761</td>\n",
              "      <td>48.850427</td>\n",
              "      <td>9.422630</td>\n",
              "      <td>34.507082</td>\n",
              "      <td>28.613029</td>\n",
              "    </tr>\n",
              "    <tr>\n",
              "      <th>1</th>\n",
              "      <td>2</td>\n",
              "      <td>M</td>\n",
              "      <td>37.0</td>\n",
              "      <td>2012.9.6</td>\n",
              "      <td>6.0</td>\n",
              "      <td>120.0</td>\n",
              "      <td>Addictive disorder</td>\n",
              "      <td>Alcohol use disorder</td>\n",
              "      <td>13.425118</td>\n",
              "      <td>11.002916</td>\n",
              "      <td>...</td>\n",
              "      <td>45.595619</td>\n",
              "      <td>17.510824</td>\n",
              "      <td>26.777368</td>\n",
              "      <td>28.201062</td>\n",
              "      <td>57.108861</td>\n",
              "      <td>32.375401</td>\n",
              "      <td>60.351749</td>\n",
              "      <td>13.900981</td>\n",
              "      <td>57.831848</td>\n",
              "      <td>43.463261</td>\n",
              "    </tr>\n",
              "    <tr>\n",
              "      <th>2</th>\n",
              "      <td>3</td>\n",
              "      <td>M</td>\n",
              "      <td>32.0</td>\n",
              "      <td>2012.9.10</td>\n",
              "      <td>16.0</td>\n",
              "      <td>113.0</td>\n",
              "      <td>Addictive disorder</td>\n",
              "      <td>Alcohol use disorder</td>\n",
              "      <td>29.941780</td>\n",
              "      <td>27.544684</td>\n",
              "      <td>...</td>\n",
              "      <td>99.475453</td>\n",
              "      <td>70.654171</td>\n",
              "      <td>39.131547</td>\n",
              "      <td>69.920996</td>\n",
              "      <td>71.063644</td>\n",
              "      <td>38.534505</td>\n",
              "      <td>69.908764</td>\n",
              "      <td>27.180532</td>\n",
              "      <td>64.803155</td>\n",
              "      <td>31.485799</td>\n",
              "    </tr>\n",
              "    <tr>\n",
              "      <th>3</th>\n",
              "      <td>4</td>\n",
              "      <td>M</td>\n",
              "      <td>35.0</td>\n",
              "      <td>2012.10.8</td>\n",
              "      <td>18.0</td>\n",
              "      <td>126.0</td>\n",
              "      <td>Addictive disorder</td>\n",
              "      <td>Alcohol use disorder</td>\n",
              "      <td>21.496226</td>\n",
              "      <td>21.846832</td>\n",
              "      <td>...</td>\n",
              "      <td>59.986561</td>\n",
              "      <td>63.822201</td>\n",
              "      <td>36.478254</td>\n",
              "      <td>47.117006</td>\n",
              "      <td>84.658376</td>\n",
              "      <td>24.724096</td>\n",
              "      <td>50.299349</td>\n",
              "      <td>35.319695</td>\n",
              "      <td>79.822944</td>\n",
              "      <td>41.141873</td>\n",
              "    </tr>\n",
              "    <tr>\n",
              "      <th>4</th>\n",
              "      <td>5</td>\n",
              "      <td>M</td>\n",
              "      <td>36.0</td>\n",
              "      <td>2012.10.18</td>\n",
              "      <td>16.0</td>\n",
              "      <td>112.0</td>\n",
              "      <td>Addictive disorder</td>\n",
              "      <td>Alcohol use disorder</td>\n",
              "      <td>37.775667</td>\n",
              "      <td>33.607679</td>\n",
              "      <td>...</td>\n",
              "      <td>61.462720</td>\n",
              "      <td>59.166097</td>\n",
              "      <td>51.465531</td>\n",
              "      <td>58.635415</td>\n",
              "      <td>80.685608</td>\n",
              "      <td>62.138436</td>\n",
              "      <td>75.888749</td>\n",
              "      <td>61.003944</td>\n",
              "      <td>87.455509</td>\n",
              "      <td>70.531662</td>\n",
              "    </tr>\n",
              "  </tbody>\n",
              "</table>\n",
              "<p>5 rows × 1149 columns</p>\n",
              "</div>"
            ],
            "text/plain": [
              "   no. sex   age    eeg.date  education     IQ       main.disorder  \\\n",
              "0    1   M  57.0   2012.8.30        NaN    NaN  Addictive disorder   \n",
              "1    2   M  37.0    2012.9.6        6.0  120.0  Addictive disorder   \n",
              "2    3   M  32.0   2012.9.10       16.0  113.0  Addictive disorder   \n",
              "3    4   M  35.0   2012.10.8       18.0  126.0  Addictive disorder   \n",
              "4    5   M  36.0  2012.10.18       16.0  112.0  Addictive disorder   \n",
              "\n",
              "      specific.disorder  AB.A.delta.a.FP1  AB.A.delta.b.FP2  ...  \\\n",
              "0  Alcohol use disorder         35.998557         21.717375  ...   \n",
              "1  Alcohol use disorder         13.425118         11.002916  ...   \n",
              "2  Alcohol use disorder         29.941780         27.544684  ...   \n",
              "3  Alcohol use disorder         21.496226         21.846832  ...   \n",
              "4  Alcohol use disorder         37.775667         33.607679  ...   \n",
              "\n",
              "   COH.F.gamma.o.Pz.p.P4  COH.F.gamma.o.Pz.q.T6  COH.F.gamma.o.Pz.r.O1  \\\n",
              "0              55.989192              16.739679              23.452271   \n",
              "1              45.595619              17.510824              26.777368   \n",
              "2              99.475453              70.654171              39.131547   \n",
              "3              59.986561              63.822201              36.478254   \n",
              "4              61.462720              59.166097              51.465531   \n",
              "\n",
              "   COH.F.gamma.o.Pz.s.O2  COH.F.gamma.p.P4.q.T6  COH.F.gamma.p.P4.r.O1  \\\n",
              "0              45.678820              30.167520              16.918761   \n",
              "1              28.201062              57.108861              32.375401   \n",
              "2              69.920996              71.063644              38.534505   \n",
              "3              47.117006              84.658376              24.724096   \n",
              "4              58.635415              80.685608              62.138436   \n",
              "\n",
              "   COH.F.gamma.p.P4.s.O2  COH.F.gamma.q.T6.r.O1  COH.F.gamma.q.T6.s.O2  \\\n",
              "0              48.850427               9.422630              34.507082   \n",
              "1              60.351749              13.900981              57.831848   \n",
              "2              69.908764              27.180532              64.803155   \n",
              "3              50.299349              35.319695              79.822944   \n",
              "4              75.888749              61.003944              87.455509   \n",
              "\n",
              "   COH.F.gamma.r.O1.s.O2  \n",
              "0              28.613029  \n",
              "1              43.463261  \n",
              "2              31.485799  \n",
              "3              41.141873  \n",
              "4              70.531662  \n",
              "\n",
              "[5 rows x 1149 columns]"
            ]
          },
          "execution_count": 18,
          "metadata": {},
          "output_type": "execute_result"
        }
      ],
      "source": [
        "df=pd.read_csv('C:\\Data\\DJ\\AccioBeer\\data\\EEG.machinelearing_data_BRMH.csv')\n",
        "df.head()"
      ]
    },
    {
      "cell_type": "code",
      "execution_count": 19,
      "metadata": {},
      "outputs": [],
      "source": [
        "df = df.drop(columns=['no.', 'eeg.date'], axis=1)"
      ]
    },
    {
      "cell_type": "code",
      "execution_count": 20,
      "metadata": {},
      "outputs": [
        {
          "data": {
            "text/plain": [
              "0      M\n",
              "1      M\n",
              "2      M\n",
              "3      M\n",
              "4      M\n",
              "      ..\n",
              "940    M\n",
              "941    M\n",
              "942    M\n",
              "943    M\n",
              "944    M\n",
              "Name: sex, Length: 945, dtype: object"
            ]
          },
          "execution_count": 20,
          "metadata": {},
          "output_type": "execute_result"
        }
      ],
      "source": [
        "# df = df.fillna(df.mean())\n",
        "# df['sex'].fillna(value='M', inplace=True)\n",
        "df['sex'].fillna('M')"
      ]
    },
    {
      "cell_type": "code",
      "execution_count": 23,
      "metadata": {
        "colab": {
          "base_uri": "https://localhost:8080/"
        },
        "id": "hWeGzOxhzYuT",
        "outputId": "27c0c6fe-53c4-4191-f96a-7df9fd6f8262"
      },
      "outputs": [
        {
          "name": "stdout",
          "output_type": "stream",
          "text": [
            "Accuracy: 0.9190140845070423\n"
          ]
        }
      ],
      "source": [
        "# df = df.drop(columns=['no.', 'eeg.date'], axis=1)\n",
        "# df = df.fillna(df.mean())\n",
        "label_encoder = LabelEncoder()\n",
        "\n",
        "# Encode the categorical target variable y_corr\n",
        "df['main.disorder']= label_encoder.fit_transform(df['main.disorder'])\n",
        "\n",
        "# Get the unique categories and their corresponding encoded integers\n",
        "categories = label_encoder.classes_\n",
        "encoded_integers = label_encoder.transform(categories)\n",
        "\n",
        "encoder = OrdinalEncoder()\n",
        "\n",
        "encoder.fit(df[['sex']])\n",
        "df['sex']= encoder.transform(df[['sex']])\n",
        "\n",
        "encoder.fit(df[['specific.disorder']])\n",
        "df['specific.disorder']= encoder.transform(df[['specific.disorder']])\n",
        "\n",
        "regex_pattern = '|'.join(['gamma', 'alpha', 'beta'])\n",
        "\n",
        "# Filter columns based on the concatenated regex pattern\n",
        "filtered_df = df[df.columns.drop(list(df.filter(regex=regex_pattern)))]\n",
        "\n",
        "info_df = filtered_df.iloc[:, :6]\n",
        "\n",
        "regex_pattern = r'(AB|COH)\\.[A-Z]\\.[theta]*\\.[a-z]{1}\\.[F].*'\n",
        "\n",
        "# Select columns based on the regex pattern\n",
        "selected_columns = filtered_df.filter(regex=regex_pattern)\n",
        "\n",
        "data = selected_columns\n",
        "substrings_to_remove = ['FP1', 'F7', 'F8']\n",
        "\n",
        "# Filter columns and keep only those that do not contain the substrings\n",
        "filtered_columns = [col for col in data.columns if not any(sub in col for sub in substrings_to_remove)]\n",
        "\n",
        "# Create a new DataFrame with the filtered columns\n",
        "filtered_data = data[filtered_columns]\n",
        "\n",
        "concatenated_df = pd.concat([info_df, filtered_data], axis=1)\n",
        "\n",
        "data = concatenated_df\n",
        "\n",
        "data['Suicidal'] = data['main.disorder'].apply(lambda x: 0 if x == 2 else 1)\n",
        "\n",
        "data = data.drop(columns = ['main.disorder', 'specific.disorder'], axis = 1)\n",
        "\n",
        "\n",
        "X = data.drop(columns = ['Suicidal'], axis = 1)\n",
        "y = data['Suicidal']\n",
        "\n",
        "X_train, X_test, y_train, y_test = train_test_split(X, y, test_size=0.3, random_state=42)\n",
        "\n",
        "# rf_classifier = sklearn.ensemble.HistGradientBoostingClassifier(n_estimators=50, random_state=42)\n",
        "rf_classifier = sklearn.ensemble.HistGradientBoostingClassifier( random_state=42)\n",
        "\n",
        "# Train the classifier\n",
        "rf_classifier.fit(X_train, y_train)\n",
        "df.to_csv('file1.csv')\n",
        "# Make predictions on the test set\n",
        "y_pred = rf_classifier.predict(X_test)\n",
        "\n",
        "# Evaluate accuracy\n",
        "accuracy = accuracy_score(y_test, y_pred)\n",
        "print(\"Accuracy:\", accuracy)"
      ]
    },
    {
      "cell_type": "code",
      "execution_count": 31,
      "metadata": {},
      "outputs": [],
      "source": [
        "X.to_csv('data/input_features.csv')\n",
        "data.to_csv('data/preprocessed_data.csv')"
      ]
    },
    {
      "cell_type": "code",
      "execution_count": 25,
      "metadata": {},
      "outputs": [],
      "source": [
        "import pickle\n",
        "pickle.dump(rf_classifier, open('model.pkl', 'wb'))"
      ]
    },
    {
      "cell_type": "code",
      "execution_count": 37,
      "metadata": {
        "colab": {
          "base_uri": "https://localhost:8080/"
        },
        "id": "YEKQqp4f5EzV",
        "outputId": "42c13182-d7cb-4ed7-dce9-f48881930957"
      },
      "outputs": [
        {
          "name": "stdout",
          "output_type": "stream",
          "text": [
            "Predicted Output: [1]\n"
          ]
        }
      ],
      "source": [
        "x=pd.read_csv('C:\\Data\\DJ\\AccioBeer\\data\\sample2.csv')\n",
        "output_prediction = rf_classifier.predict(x)\n",
        "\n",
        "# Print or use the predicted output\n",
        "print(\"Predicted Output:\", output_prediction)"
      ]
    },
    {
      "cell_type": "code",
      "execution_count": null,
      "metadata": {
        "id": "iOlyI9T-_tIt"
      },
      "outputs": [],
      "source": []
    },
    {
      "cell_type": "code",
      "execution_count": null,
      "metadata": {
        "id": "Te2YB_09AQRk"
      },
      "outputs": [],
      "source": []
    }
  ],
  "metadata": {
    "colab": {
      "provenance": []
    },
    "kernelspec": {
      "display_name": "Python 3",
      "name": "python3"
    },
    "language_info": {
      "codemirror_mode": {
        "name": "ipython",
        "version": 3
      },
      "file_extension": ".py",
      "mimetype": "text/x-python",
      "name": "python",
      "nbconvert_exporter": "python",
      "pygments_lexer": "ipython3",
      "version": "3.11.2"
    }
  },
  "nbformat": 4,
  "nbformat_minor": 0
}
